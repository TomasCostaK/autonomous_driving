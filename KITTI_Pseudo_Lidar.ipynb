{
  "nbformat": 4,
  "nbformat_minor": 0,
  "metadata": {
    "colab": {
      "name": "KITTI_Pseudo_Lidar",
      "provenance": [],
      "collapsed_sections": [
        "B55FDtx-SR8J"
      ],
      "toc_visible": true
    },
    "kernelspec": {
      "name": "python3",
      "display_name": "Python 3"
    },
    "accelerator": "GPU"
  },
  "cells": [
    {
      "cell_type": "code",
      "metadata": {
        "id": "k2VGHs6bOOF0",
        "colab_type": "code",
        "colab": {
          "base_uri": "https://localhost:8080/",
          "height": 139
        },
        "outputId": "5b43162e-ee1d-4b6a-c396-5246aff1618f"
      },
      "source": [
        "!git clone https://github.com/mileyan/pseudo_lidar_V2"
      ],
      "execution_count": 1,
      "outputs": [
        {
          "output_type": "stream",
          "text": [
            "Cloning into 'pseudo_lidar_V2'...\n",
            "remote: Enumerating objects: 13, done.\u001b[K\n",
            "remote: Counting objects: 100% (13/13), done.\u001b[K\n",
            "remote: Compressing objects: 100% (13/13), done.\u001b[K\n",
            "remote: Total 100 (delta 4), reused 0 (delta 0), pack-reused 87\u001b[K\n",
            "Receiving objects: 100% (100/100), 2.89 MiB | 4.80 MiB/s, done.\n",
            "Resolving deltas: 100% (22/22), done.\n"
          ],
          "name": "stdout"
        }
      ]
    },
    {
      "cell_type": "code",
      "metadata": {
        "id": "-HxLHh7oBiR4",
        "colab_type": "code",
        "colab": {}
      },
      "source": [
        "!mkdir -p pseudo_lidar_V2/kitti/{training,testing}/{calib,image_2,image_3}"
      ],
      "execution_count": 2,
      "outputs": []
    },
    {
      "cell_type": "markdown",
      "metadata": {
        "id": "QZmsoh-uCJ4D",
        "colab_type": "text"
      },
      "source": [
        "Upload files from local: calib, left and right images."
      ]
    },
    {
      "cell_type": "markdown",
      "metadata": {
        "id": "BIL4z-vCCg4t",
        "colab_type": "text"
      },
      "source": [
        "Upload subval2, train2, trainval2 and config file"
      ]
    },
    {
      "cell_type": "code",
      "metadata": {
        "id": "RpVJqtDkC935",
        "colab_type": "code",
        "colab": {
          "base_uri": "https://localhost:8080/",
          "height": 34
        },
        "outputId": "8ddf1a8b-7ef6-4e76-ccd6-889168eaecdb"
      },
      "source": [
        "!mv 007481.txt pseudo_lidar_V2/kitti/testing/calib/ && mv left.png pseudo_lidar_V2/kitti/testing/image_2/007481.png && mv right.png pseudo_lidar_V2/kitti/testing/image_3/007481.png && mv sdn_kitti_train.config pseudo_lidar_V2/src/configs && mv *.txt pseudo_lidar_V2/split/"
      ],
      "execution_count": 3,
      "outputs": [
        {
          "output_type": "stream",
          "text": [
            "mv: cannot stat 'sdn_kitti_train.config': No such file or directory\n"
          ],
          "name": "stdout"
        }
      ]
    },
    {
      "cell_type": "markdown",
      "metadata": {
        "id": "Pk1_2EgDEP4E",
        "colab_type": "text"
      },
      "source": [
        "Upload sdn_kitti_object_trainval.pth"
      ]
    },
    {
      "cell_type": "code",
      "metadata": {
        "id": "30LzHQU8SGyb",
        "colab_type": "code",
        "colab": {}
      },
      "source": [
        "!mkdir -p pseudo_lidar_V2/results/sdn_kitti_train_set/ && mv sdn_kitti_object_trainval.pth pseudo_lidar_V2/results/sdn_kitti_train_set/"
      ],
      "execution_count": 4,
      "outputs": []
    },
    {
      "cell_type": "code",
      "metadata": {
        "id": "u6WSRvZROjUU",
        "colab_type": "code",
        "colab": {
          "base_uri": "https://localhost:8080/",
          "height": 1000
        },
        "outputId": "ebb0412a-2681-4fa0-b90a-fbf7b4347363"
      },
      "source": [
        "!cd pseudo_lidar_V2/ && ls -la && pip install -r requirements.txt && python ./src/main.py --config ./src/configs/sdn_kitti_test.config --resume ./results/sdn_kitti_train_set/sdn_kitti_object_trainval.pth --dataset kitti --data_list ./split/test2.txt --generate_depth_map --data_tag test"
      ],
      "execution_count": 37,
      "outputs": [
        {
          "output_type": "stream",
          "text": [
            "total 64\n",
            "drwxr-xr-x 9 root root  4096 Jun 24 09:13 .\n",
            "drwxr-xr-x 1 root root  4096 Jun 24 10:27 ..\n",
            "drwxr-xr-x 2 root root  4096 Jun 24 08:58 figures\n",
            "drwxr-xr-x 5 root root  4096 Jun 24 08:58 gdc\n",
            "drwxr-xr-x 8 root root  4096 Jun 24 08:58 .git\n",
            "-rw-r--r-- 1 root root  1217 Jun 24 08:58 .gitignore\n",
            "drwxr-xr-x 4 root root  4096 Jun 24 08:58 kitti\n",
            "-rw-r--r-- 1 root root  1065 Jun 24 08:58 LICENSE\n",
            "-rw-r--r-- 1 root root 11092 Jun 24 08:58 README.md\n",
            "-rw-r--r-- 1 root root    71 Jun 24 08:58 requirements.txt\n",
            "drwxr-xr-x 3 root root  4096 Jun 24 09:13 results\n",
            "-rw-r--r-- 1 root root  1369 Jun 24 08:58 sceneflow.py\n",
            "drwxr-xr-x 2 root root  4096 Jun 24 09:29 split\n",
            "drwxr-xr-x 8 root root  4096 Jun 24 09:13 src\n",
            "Requirement already satisfied: configargparse==1. in /usr/local/lib/python3.6/dist-packages (from -r requirements.txt (line 1)) (1.0)\n",
            "Requirement already satisfied: opencv-python in /usr/local/lib/python3.6/dist-packages (from -r requirements.txt (line 2)) (4.1.2.30)\n",
            "Requirement already satisfied: scipy in /usr/local/lib/python3.6/dist-packages (from -r requirements.txt (line 3)) (1.4.1)\n",
            "Requirement already satisfied: tensorboardx in /usr/local/lib/python3.6/dist-packages (from -r requirements.txt (line 4)) (2.0)\n",
            "Requirement already satisfied: tqdm in /usr/local/lib/python3.6/dist-packages (from -r requirements.txt (line 5)) (4.41.1)\n",
            "Requirement already satisfied: pillow==6.2.0 in /usr/local/lib/python3.6/dist-packages (from -r requirements.txt (line 6)) (6.2.0)\n",
            "Requirement already satisfied: numpy>=1.11.3 in /usr/local/lib/python3.6/dist-packages (from opencv-python->-r requirements.txt (line 2)) (1.18.5)\n",
            "Requirement already satisfied: protobuf>=3.8.0 in /usr/local/lib/python3.6/dist-packages (from tensorboardx->-r requirements.txt (line 4)) (3.10.0)\n",
            "Requirement already satisfied: six in /usr/local/lib/python3.6/dist-packages (from tensorboardx->-r requirements.txt (line 4)) (1.12.0)\n",
            "Requirement already satisfied: setuptools in /usr/local/lib/python3.6/dist-packages (from protobuf>=3.8.0->tensorboardx->-r requirements.txt (line 4)) (47.3.1)\n",
            "[2020-06-24 10:27:37 main.py:103] INFO     arch: SDNet\n",
            "[2020-06-24 10:27:37 main.py:103] INFO     btrain: 12\n",
            "[2020-06-24 10:27:37 main.py:103] INFO     bval: 4\n",
            "[2020-06-24 10:27:37 main.py:103] INFO     calib_value: 1017\n",
            "[2020-06-24 10:27:37 main.py:103] INFO     checkpoint_interval: 5\n",
            "[2020-06-24 10:27:37 main.py:103] INFO     config: ./src/configs/sdn_kitti_test.config\n",
            "[2020-06-24 10:27:37 main.py:103] INFO     data_list: ./split/test2.txt\n",
            "[2020-06-24 10:27:37 main.py:103] INFO     data_tag: test\n",
            "[2020-06-24 10:27:37 main.py:103] INFO     data_type: depth\n",
            "[2020-06-24 10:27:37 main.py:103] INFO     datapath: ./kitti/testing/\n",
            "[2020-06-24 10:27:37 main.py:103] INFO     dataset: kitti\n",
            "[2020-06-24 10:27:37 main.py:103] INFO     down: 2\n",
            "[2020-06-24 10:27:37 main.py:103] INFO     dynamic_bs: False\n",
            "[2020-06-24 10:27:37 main.py:103] INFO     epochs: 300\n",
            "[2020-06-24 10:27:37 main.py:103] INFO     eval_interval: 50\n",
            "[2020-06-24 10:27:37 main.py:103] INFO     evaluate: False\n",
            "[2020-06-24 10:27:37 main.py:103] INFO     generate_depth_map: True\n",
            "[2020-06-24 10:27:37 main.py:103] INFO     kitti2015: False\n",
            "[2020-06-24 10:27:37 main.py:103] INFO     lr: 0.001\n",
            "[2020-06-24 10:27:37 main.py:103] INFO     lr_gamma: 0.1\n",
            "[2020-06-24 10:27:37 main.py:103] INFO     lr_stepsize: [200]\n",
            "[2020-06-24 10:27:37 main.py:103] INFO     maxdepth: 80\n",
            "[2020-06-24 10:27:37 main.py:103] INFO     maxdisp: 192\n",
            "[2020-06-24 10:27:37 main.py:103] INFO     pretrain: ./results/sdn_kitti_train_set/sdn_kitti_object_trainval.pth\n",
            "[2020-06-24 10:27:37 main.py:103] INFO     resume: ./results/sdn_kitti_train_set/sdn_kitti_object_trainval.pth\n",
            "[2020-06-24 10:27:37 main.py:103] INFO     save_path: ./results/sdn_kitti_train_set\n",
            "[2020-06-24 10:27:37 main.py:103] INFO     split_train: ./split/train2.txt\n",
            "[2020-06-24 10:27:37 main.py:103] INFO     split_val: ./split/subval2.txt\n",
            "[2020-06-24 10:27:37 main.py:103] INFO     start_epoch: 0\n",
            "[2020-06-24 10:27:37 main.py:103] INFO     workers: 8\n",
            "[2020-06-24 10:27:38 main.py:143] INFO     Number of model parameters: 5224768\n",
            "[2020-06-24 10:27:40 main.py:153] INFO     => loading pretrain './results/sdn_kitti_train_set/sdn_kitti_object_trainval.pth'\n",
            "[2020-06-24 10:27:40 main.py:161] INFO     => loading checkpoint './results/sdn_kitti_train_set/sdn_kitti_object_trainval.pth'\n",
            "[2020-06-24 10:27:40 main.py:169] INFO     => loaded checkpoint './results/sdn_kitti_train_set/sdn_kitti_object_trainval.pth' (epoch 300)\n",
            "  0% 0/1 [00:00<?, ?it/s]/usr/local/lib/python3.6/dist-packages/torch/nn/functional.py:2796: UserWarning: nn.functional.upsample is deprecated. Use nn.functional.interpolate instead.\n",
            "  warnings.warn(\"nn.functional.upsample is deprecated. Use nn.functional.interpolate instead.\")\n",
            "/usr/local/lib/python3.6/dist-packages/torch/nn/functional.py:2973: UserWarning: Default upsampling behavior when mode=bilinear is changed to align_corners=False since 0.4.0. Please specify align_corners=True if the old behavior is desired. See the documentation of nn.Upsample for details.\n",
            "  \"See the documentation of nn.Upsample for details.\".format(mode))\n",
            "/usr/local/lib/python3.6/dist-packages/torch/nn/functional.py:2973: UserWarning: Default upsampling behavior when mode=trilinear is changed to align_corners=False since 0.4.0. Please specify align_corners=True if the old behavior is desired. See the documentation of nn.Upsample for details.\n",
            "  \"See the documentation of nn.Upsample for details.\".format(mode))\n",
            "100% 1/1 [00:04<00:00,  4.28s/it]\n"
          ],
          "name": "stdout"
        }
      ]
    },
    {
      "cell_type": "markdown",
      "metadata": {
        "id": "B55FDtx-SR8J",
        "colab_type": "text"
      },
      "source": [
        "# Datasets"
      ]
    },
    {
      "cell_type": "code",
      "metadata": {
        "id": "FCKsApIqUCVm",
        "colab_type": "code",
        "colab": {
          "base_uri": "https://localhost:8080/",
          "height": 208
        },
        "outputId": "a2a01da5-c4a6-444d-aa39-86aa76c54951"
      },
      "source": [
        "!wget https://s3.eu-central-1.amazonaws.com/avg-kitti/data_object_image_2.zip"
      ],
      "execution_count": null,
      "outputs": [
        {
          "output_type": "stream",
          "text": [
            "--2020-06-22 09:29:38--  https://s3.eu-central-1.amazonaws.com/avg-kitti/data_object_image_2.zip\n",
            "Resolving s3.eu-central-1.amazonaws.com (s3.eu-central-1.amazonaws.com)... 52.219.73.195\n",
            "Connecting to s3.eu-central-1.amazonaws.com (s3.eu-central-1.amazonaws.com)|52.219.73.195|:443... connected.\n",
            "HTTP request sent, awaiting response... 200 OK\n",
            "Length: 12569945557 (12G) [application/zip]\n",
            "Saving to: ‘data_object_image_2.zip’\n",
            "\n",
            "data_object_image_2 100%[===================>]  11.71G  33.1MB/s    in 4m 45s  \n",
            "\n",
            "2020-06-22 09:34:23 (42.1 MB/s) - ‘data_object_image_2.zip’ saved [12569945557/12569945557]\n",
            "\n"
          ],
          "name": "stdout"
        }
      ]
    },
    {
      "cell_type": "code",
      "metadata": {
        "id": "RSx5hN4RZjgA",
        "colab_type": "code",
        "colab": {}
      },
      "source": [
        "!unzip data_object_image_2.zip"
      ],
      "execution_count": null,
      "outputs": []
    },
    {
      "cell_type": "code",
      "metadata": {
        "id": "YCuKzoSnYbEm",
        "colab_type": "code",
        "colab": {
          "base_uri": "https://localhost:8080/",
          "height": 208
        },
        "outputId": "283d25ab-e57e-4eca-ae6c-5da9c181dc79"
      },
      "source": [
        "!wget https://s3.eu-central-1.amazonaws.com/avg-kitti/data_object_image_3.zip"
      ],
      "execution_count": null,
      "outputs": [
        {
          "output_type": "stream",
          "text": [
            "--2020-06-22 09:55:41--  https://s3.eu-central-1.amazonaws.com/avg-kitti/data_object_image_3.zip\n",
            "Resolving s3.eu-central-1.amazonaws.com (s3.eu-central-1.amazonaws.com)... 52.219.72.107\n",
            "Connecting to s3.eu-central-1.amazonaws.com (s3.eu-central-1.amazonaws.com)|52.219.72.107|:443... connected.\n",
            "HTTP request sent, awaiting response... 200 OK\n",
            "Length: 12002946646 (11G) [application/zip]\n",
            "Saving to: ‘data_object_image_3.zip’\n",
            "\n",
            "data_object_image_3 100%[===================>]  11.18G  36.3MB/s    in 4m 30s  \n",
            "\n",
            "2020-06-22 10:00:12 (42.3 MB/s) - ‘data_object_image_3.zip’ saved [12002946646/12002946646]\n",
            "\n"
          ],
          "name": "stdout"
        }
      ]
    },
    {
      "cell_type": "code",
      "metadata": {
        "id": "RSZD3X0ondYB",
        "colab_type": "code",
        "colab": {}
      },
      "source": [
        "!rm pseudo_lidar_V2/results/sdn_kitti_train_set/pseudo_lidar_trainval/*"
      ],
      "execution_count": null,
      "outputs": []
    },
    {
      "cell_type": "code",
      "metadata": {
        "id": "Rt_-29T9dLUv",
        "colab_type": "code",
        "colab": {}
      },
      "source": [
        "!unzip data_object_image_3.zip"
      ],
      "execution_count": null,
      "outputs": []
    },
    {
      "cell_type": "markdown",
      "metadata": {
        "id": "1_a3FYoJSZCO",
        "colab_type": "text"
      },
      "source": [
        "# Postprocess & Analysis"
      ]
    },
    {
      "cell_type": "code",
      "metadata": {
        "id": "R6tZ7UHMoDqS",
        "colab_type": "code",
        "colab": {
          "base_uri": "https://localhost:8080/",
          "height": 153
        },
        "outputId": "3ed2f401-82ea-4453-d6de-1b0a61326a91"
      },
      "source": [
        "import numpy as np\n",
        "from matplotlib import pyplot as plt\n",
        "\n",
        "img_array = np.load('pseudo_lidar_V2/results/sdn_kitti_train_set/depth_maps/test/007481.npy')\n",
        "\n",
        "plt.imshow(img_array, cmap='gray')\n",
        "plt.show()"
      ],
      "execution_count": 38,
      "outputs": [
        {
          "output_type": "display_data",
          "data": {
            "image/png": "[encoded data removed]",
            "text/plain": [
              "<Figure size 432x288 with 1 Axes>"
            ]
          },
          "metadata": {
            "tags": [],
            "needs_background": "light"
          }
        }
      ]
    },
    {
      "cell_type": "code",
      "metadata": {
        "id": "-zVMtaiSo50s",
        "colab_type": "code",
        "colab": {
          "base_uri": "https://localhost:8080/",
          "height": 34
        },
        "outputId": "7e7f37a5-00fc-413b-c93b-9ce8986d17a3"
      },
      "source": [
        "!cd pseudo_lidar_V2/ && python ./src/preprocess/generate_lidar_from_depth.py --calib_dir ./kitti/testing/calib/ --depth_dir ./results/sdn_kitti_train_set/depth_maps/test/ --save_dir ./results/sdn_kitti_train_set/pseudo_lidar_trainval/"
      ],
      "execution_count": 39,
      "outputs": [
        {
          "output_type": "stream",
          "text": [
            "Finish Depth 007481\n"
          ],
          "name": "stdout"
        }
      ]
    },
    {
      "cell_type": "markdown",
      "metadata": {
        "id": "FVr-OgxbS1uP",
        "colab_type": "text"
      },
      "source": [
        "Data will be available as bin file. Next step converts to .ply file "
      ]
    },
    {
      "cell_type": "code",
      "metadata": {
        "id": "7HmjsD-mS4z1",
        "colab_type": "code",
        "colab": {}
      },
      "source": [
        "from pathlib import Path\n",
        "import numpy as np\n",
        "import os.path\n",
        "import math\n",
        "\n",
        "def loadKittiVelodyneFile(file_path, include_luminance = False):\n",
        "    '''\n",
        "    Loads a kitti velodyne file (ex: 000000.bin) into a list of tuples, where each tuple has (x, y, z) or (x, y, z, l)\n",
        "    Right now it discards the 4th vaule of each point, i.e. the luminance\n",
        "    Argument:\n",
        "        - include_luminance: if the function should also store the pont intensisty value in the list of points\n",
        "    '''\n",
        "    # Source: https://github.com/hunse/kitti/blob/master/kitti/velodyne.py\n",
        "    points = np.fromfile(file_path, dtype=np.float32).reshape(-1, 4)\n",
        "    points = points[:, :3]  # exclude luminance\n",
        "\n",
        "    point_tuple_list = []\n",
        "    for i in range(len(points)):\n",
        "        point_tuple_list.append((points[i][0], points[i][1], points[i][2],))\n",
        "\n",
        "    return point_tuple_list\n",
        "\n",
        "def savePlyFile(filepath, tuple_list, attributes = None, color_for_every_point = (0, 255, 0)):\n",
        "    '''\n",
        "    For testing in the Main.py file\n",
        "    Save list of points (possibly with attributes such as color) into a .PLY formated file\n",
        "    Arguments: \n",
        "        - tuple_list: list of points and their attributes\n",
        "        - attributes: to indicate what type of attributes are included in the points:\n",
        "            - c: each point has position + color (r, g, b)\n",
        "    '''\n",
        "    with open(filepath, \"w\") as the_file:\n",
        "        header_lines = [\"ply\", \"format ascii 1.0\"]\n",
        "        header_lines.append(\"element vertex \" + str(len(tuple_list)))\n",
        "        header_lines.append(\"property float x\")\n",
        "        header_lines.append(\"property float y\")\n",
        "        header_lines.append(\"property float z\")\n",
        "\n",
        "        # if point have color \n",
        "        if attributes == \"c\":\n",
        "            header_lines.append(\"property uchar red\")\n",
        "            header_lines.append(\"property uchar green\")\n",
        "            header_lines.append(\"property uchar blue\")\n",
        "        \n",
        "        header_lines.append(\"end_header\")\n",
        "        \n",
        "        for i in range(0, len(header_lines)):\n",
        "            the_file.write(header_lines[i] + \"\\n\")\n",
        "\n",
        "        for i in range(0, len(tuple_list)):\n",
        "            if attributes == \"c\" and len(tuple_list[i]) <= 3:    # if the points dont have color, but the attributes is set to \"c\"\n",
        "                new_tuple = (tuple_list[i][0], tuple_list[i][1], tuple_list[i][2], color_for_every_point[0], color_for_every_point[1], color_for_every_point[2])\n",
        "                the_file.write(tupleToStr(new_tuple) + \"\\n\")\n",
        "            else:\n",
        "                the_file.write(tupleToStr(tuple_list[i]) + \"\\n\")\n",
        "\n",
        "def tupleToStr(tuple):\n",
        "    '''\n",
        "    Converts a tuple of N size into a string, where each element is separated by a space.\n",
        "    Arguments:\n",
        "    - tuple: tuple to be converted into string\n",
        "    Returns:\n",
        "        - string with the tuple values\n",
        "    '''\n",
        "    tuple_string = \"\"\n",
        "    for i in range(0, len(tuple)):\n",
        "        if i == (len(tuple)-1):\n",
        "            tuple_string += str(tuple[i])\n",
        "        else:\n",
        "            tuple_string += str(tuple[i]) + \" \"\n",
        " \n",
        "    return tuple_string"
      ],
      "execution_count": 18,
      "outputs": []
    },
    {
      "cell_type": "code",
      "metadata": {
        "id": "bmCpZwIgTDOM",
        "colab_type": "code",
        "colab": {}
      },
      "source": [
        "ptl = loadKittiVelodyneFile('/content/pseudo_lidar_V2/results/sdn_kitti_train_set/pseudo_lidar_trainval/007481.bin')\n",
        "savePlyFile('/content/007481.ply', ptl)"
      ],
      "execution_count": 40,
      "outputs": []
    }
  ]
}